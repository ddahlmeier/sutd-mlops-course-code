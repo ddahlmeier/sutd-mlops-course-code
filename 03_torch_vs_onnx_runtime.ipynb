{
 "cells": [
  {
   "cell_type": "code",
   "execution_count": null,
   "id": "48cced3f-4d98-4e57-91c7-bab119051e73",
   "metadata": {
    "scrolled": true
   },
   "outputs": [],
   "source": [
    "!pip install optimum[onnxruntime]"
   ]
  },
  {
   "cell_type": "markdown",
   "id": "1130fb3e-dbad-480b-b084-d29826b6c482",
   "metadata": {},
   "source": [
    "# Runtime Comparion (Torch vs. ONNX) on a Simple Neural Net"
   ]
  },
  {
   "cell_type": "code",
   "execution_count": null,
   "id": "bd09002b-e594-4314-90ce-da39dffe4f0d",
   "metadata": {},
   "outputs": [],
   "source": [
    "import torch\n",
    "import torch.nn as nn\n",
    "import time\n",
    "import numpy as np\n",
    "import onnxruntime\n",
    "\n",
    "# Define a simple model: a two-layer MLP\n",
    "class SimpleModel(nn.Module):\n",
    "    def __init__(self, input_size=10, hidden_size=20, output_size=5):\n",
    "        super(SimpleModel, self).__init__()\n",
    "        self.fc1 = nn.Linear(input_size, hidden_size)\n",
    "        self.relu = nn.ReLU()\n",
    "        self.fc2 = nn.Linear(hidden_size, output_size)\n",
    "    \n",
    "    def forward(self, x):\n",
    "        x = self.fc1(x)\n",
    "        x = self.relu(x)\n",
    "        x = self.fc2(x)\n",
    "        return x\n",
    "\n",
    "# Create the model and set to evaluation mode\n",
    "model = SimpleModel()\n",
    "model.eval()\n",
    "\n",
    "# Create a dummy input tensor\n",
    "dummy_input = torch.randn(1, 10)\n",
    "\n",
    "# Run inference using PyTorch\n",
    "with torch.no_grad():\n",
    "    torch_output = model(dummy_input)\n",
    "print(\"PyTorch output:\", torch_output)\n",
    "\n",
    "# Export the model to ONNX format\n",
    "onnx_model_path = \"simple_model.onnx\"\n",
    "torch.onnx.export(model, \n",
    "                  dummy_input, \n",
    "                  onnx_model_path,\n",
    "                  input_names=[\"input\"],\n",
    "                  output_names=[\"output\"],\n",
    "                  opset_version=11)\n",
    "print(\"Model exported to ONNX.\")\n",
    "\n",
    "# Load the ONNX model with ONNX Runtime\n",
    "ort_session = onnxruntime.InferenceSession(onnx_model_path)\n",
    "\n",
    "# Helper function: convert PyTorch tensor to NumPy array\n",
    "def to_numpy(tensor):\n",
    "    return tensor.detach().cpu().numpy() if tensor.requires_grad else tensor.cpu().numpy()\n",
    "\n",
    "# Run inference using ONNX Runtime\n",
    "ort_inputs = {ort_session.get_inputs()[0].name: to_numpy(dummy_input)}\n",
    "ort_outs = ort_session.run(None, ort_inputs)\n",
    "print(\"ONNX Runtime output:\", ort_outs[0])\n",
    "\n",
    "# Compare inference speed\n",
    "n_runs = 1000\n",
    "\n",
    "# PyTorch inference timing\n",
    "start_time = time.time()\n",
    "with torch.no_grad():\n",
    "    for _ in range(n_runs):\n",
    "        _ = model(dummy_input)\n",
    "torch_time = time.time() - start_time\n",
    "\n",
    "# ONNX Runtime inference timing\n",
    "start_time = time.time()\n",
    "for _ in range(n_runs):\n",
    "    _ = ort_session.run(None, ort_inputs)\n",
    "onnx_time = time.time() - start_time\n",
    "\n",
    "print(\"PyTorch inference time over {} runs: {:.6f} seconds\".format(n_runs, torch_time))\n",
    "print(\"ONNX Runtime inference time over {} runs: {:.6f} seconds\".format(n_runs, onnx_time))"
   ]
  },
  {
   "cell_type": "markdown",
   "id": "76942ea5-d378-41c7-aead-984d4c895b1b",
   "metadata": {},
   "source": [
    "# Runtime Comparion (Torch vs. ONNX) on RoBERTa"
   ]
  },
  {
   "cell_type": "code",
   "execution_count": null,
   "id": "cad6a62c-fb37-4b5e-977c-edcb6cd6d5fe",
   "metadata": {},
   "outputs": [],
   "source": [
    "from transformers import AutoTokenizer, pipeline\n",
    "from optimum.onnxruntime import ORTModelForQuestionAnswering\n",
    "\n",
    "model_id = \"deepset/roberta-base-squad2\"\n",
    "task = \"question-answering\"\n",
    "\n",
    "# load vanilla transformers and convert to onnx\n",
    "model = ORTModelForQuestionAnswering.from_pretrained(model_id, from_transformers=True)\n",
    "tokenizer = AutoTokenizer.from_pretrained(model_id)\n",
    "onnx_qa_pipeline = pipeline(task, model=model, tokenizer=tokenizer, handle_impossible_answer=True, device=-1)\n",
    "torch_qa_pipeline = pipeline(task, model=model_id, tokenizer=model_id, device=-1)"
   ]
  },
  {
   "cell_type": "code",
   "execution_count": null,
   "id": "2f9de740-407f-4760-9772-5a590ff2169d",
   "metadata": {},
   "outputs": [],
   "source": [
    "from time import perf_counter\n",
    "import numpy as np\n",
    "\n",
    "context=\"Hello, my name is Philipp and I live in Nuremberg, Germany. Currently I am working as a Technical Lead at Hugging Face to democratize artificial intelligence through open source and open science. In the past I designed and implemented cloud-native machine learning architectures for fin-tech and insurance companies. I found my passion for cloud concepts and machine learning 5 years ago. Since then I never stopped learning. Currently, I am focusing myself in the area NLP and how to leverage models like BERT, Roberta, T5, ViT, and GPT2 to generate business value.\"\n",
    "question=\"As what is Philipp working?\"\n",
    "\n",
    "def measure_latency(pipe):\n",
    "    latencies = []\n",
    "    # warm up\n",
    "    for _ in range(10):\n",
    "        _ = pipe(question=question, context=context)\n",
    "    # Timed run\n",
    "    for _ in range(100):\n",
    "        start_time = perf_counter()\n",
    "        _ =  pipe(question=question, context=context)\n",
    "        latency = perf_counter() - start_time\n",
    "        latencies.append(latency)\n",
    "    # Compute run statistics\n",
    "    time_avg_ms = 1000 * np.mean(latencies)\n",
    "    time_std_ms = 1000 * np.std(latencies)\n",
    "    return f\"Average latency (ms) - {time_avg_ms:.2f} +\\- {time_std_ms:.2f}\"\n",
    "\n",
    "print(f\"ONNX RoBERTa {measure_latency(onnx_qa_pipeline)}\")\n",
    "print(f\"Torch RoBERTa {measure_latency(torch_qa_pipeline)}\")"
   ]
  }
 ],
 "metadata": {
  "kernelspec": {
   "display_name": "Python 3 (ipykernel)",
   "language": "python",
   "name": "python3"
  },
  "language_info": {
   "codemirror_mode": {
    "name": "ipython",
    "version": 3
   },
   "file_extension": ".py",
   "mimetype": "text/x-python",
   "name": "python",
   "nbconvert_exporter": "python",
   "pygments_lexer": "ipython3",
   "version": "3.11.11"
  }
 },
 "nbformat": 4,
 "nbformat_minor": 5
}
