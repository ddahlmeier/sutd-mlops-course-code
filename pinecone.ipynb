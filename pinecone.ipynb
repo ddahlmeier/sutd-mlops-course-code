{
 "cells": [
  {
   "cell_type": "markdown",
   "id": "a11737e0-4817-4746-b07d-de2324349620",
   "metadata": {},
   "source": [
    "# Pinecone quickstart\n",
    "from https://docs.pinecone.io/docs/quickstart\n"
   ]
  },
  {
   "cell_type": "code",
   "execution_count": null,
   "id": "0a323376-596c-4471-9469-d7c26c9be360",
   "metadata": {},
   "outputs": [],
   "source": [
    "! pip install pinecone-client"
   ]
  },
  {
   "cell_type": "code",
   "execution_count": null,
   "id": "d7f5ca48-9b7a-4501-aa41-5b613d968559",
   "metadata": {},
   "outputs": [],
   "source": [
    "import pinecone      \n",
    "\n",
    "pinecone.init(      \n",
    "\tapi_key='<ENTER YOUR API KEY>',      \n",
    "\tenvironment='gcp-starter'      \n",
    ")      \n"
   ]
  },
  {
   "cell_type": "code",
   "execution_count": null,
   "id": "dac0b683-369c-406a-b32e-243301ef7678",
   "metadata": {},
   "outputs": [],
   "source": [
    "pinecone.create_index(\"quickstart\", dimension=8, metric=\"euclidean\")\n",
    "pinecone.describe_index(\"quickstart\")"
   ]
  },
  {
   "cell_type": "code",
   "execution_count": null,
   "id": "b67d25b1",
   "metadata": {},
   "outputs": [],
   "source": [
    "index = pinecone.Index(\"quickstart\")\n"
   ]
  },
  {
   "cell_type": "code",
   "execution_count": null,
   "id": "7f2ce7b1",
   "metadata": {},
   "outputs": [],
   "source": [
    "index.upsert(\n",
    "  vectors=[\n",
    "    {\"id\": \"vec1\", \"values\": [0.1, 0.1, 0.1, 0.1, 0.1, 0.1, 0.1, 0.1]},\n",
    "    {\"id\": \"vec2\", \"values\": [0.2, 0.2, 0.2, 0.2, 0.2, 0.2, 0.2, 0.2]},\n",
    "    {\"id\": \"vec3\", \"values\": [0.3, 0.3, 0.3, 0.3, 0.3, 0.3, 0.3, 0.3]},\n",
    "    {\"id\": \"vec4\", \"values\": [0.4, 0.4, 0.4, 0.4, 0.4, 0.4, 0.4, 0.4]}\n",
    "  ],\n",
    "  namespace=\"ns1\"\n",
    ")\n",
    "\n",
    "index.upsert(\n",
    "  vectors=[\n",
    "    {\"id\": \"vec5\", \"values\": [0.5, 0.5, 0.5, 0.5, 0.5, 0.5, 0.5, 0.5]},\n",
    "    {\"id\": \"vec6\", \"values\": [0.6, 0.6, 0.6, 0.6, 0.6, 0.6, 0.6, 0.6]},\n",
    "    {\"id\": \"vec7\", \"values\": [0.7, 0.7, 0.7, 0.7, 0.7, 0.7, 0.7, 0.7]},\n",
    "    {\"id\": \"vec8\", \"values\": [0.8, 0.8, 0.8, 0.8, 0.8, 0.8, 0.8, 0.8]}\n",
    "  ],\n",
    "  namespace=\"ns2\"\n",
    ")"
   ]
  },
  {
   "cell_type": "code",
   "execution_count": null,
   "id": "f7c83001-2490-48ee-8b5e-cdd6a049ffff",
   "metadata": {},
   "outputs": [],
   "source": [
    "index.describe_index_stats()\n"
   ]
  },
  {
   "cell_type": "code",
   "execution_count": null,
   "id": "0256078b",
   "metadata": {},
   "outputs": [],
   "source": [
    "index.query(\n",
    "  namespace=\"ns1\",\n",
    "  vector=[0.3, 0.3, 0.3, 0.3, 0.3, 0.3, 0.3, 0.3],\n",
    "  top_k=3,\n",
    "  include_values=True\n",
    ")\n",
    "\n"
   ]
  },
  {
   "cell_type": "code",
   "execution_count": null,
   "id": "921bcfd8-d82f-4294-aae1-e957049ec982",
   "metadata": {},
   "outputs": [],
   "source": [
    "index.query(\n",
    "  namespace=\"ns2\",\n",
    "  vector=[0.7, 0.7, 0.7, 0.7, 0.7, 0.7, 0.7, 0.7],\n",
    "  top_k=3,\n",
    "  include_values=True\n",
    ")\n"
   ]
  },
  {
   "cell_type": "code",
   "execution_count": null,
   "id": "426417b4-d11d-47e7-9555-6f15a99621be",
   "metadata": {},
   "outputs": [],
   "source": [
    "#clean up\n",
    "pinecone.delete_index(\"quickstart\")\n"
   ]
  },
  {
   "cell_type": "code",
   "execution_count": null,
   "id": "9749171e-e41c-4a45-a552-576980d2d38f",
   "metadata": {},
   "outputs": [],
   "source": []
  },
  {
   "cell_type": "code",
   "execution_count": null,
   "id": "36c6df15-b5ab-4c0e-b814-0b681b5bf3eb",
   "metadata": {},
   "outputs": [],
   "source": []
  }
 ],
 "metadata": {
  "kernelspec": {
   "display_name": "Python 3 (ipykernel)",
   "language": "python",
   "name": "python3"
  },
  "language_info": {
   "codemirror_mode": {
    "name": "ipython",
    "version": 3
   },
   "file_extension": ".py",
   "mimetype": "text/x-python",
   "name": "python",
   "nbconvert_exporter": "python",
   "pygments_lexer": "ipython3",
   "version": "3.10.13"
  }
 },
 "nbformat": 4,
 "nbformat_minor": 5
}
