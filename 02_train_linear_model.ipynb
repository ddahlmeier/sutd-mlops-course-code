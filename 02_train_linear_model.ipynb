{
 "cells": [
  {
   "cell_type": "markdown",
   "id": "7b1cfb22-4b03-4682-9a21-bca5cb05c682",
   "metadata": {},
   "source": [
    "# Train a linear model for sentiment classification\n"
   ]
  },
  {
   "cell_type": "markdown",
   "id": "348e0a92-beac-4e67-b82c-5f055c4dce5e",
   "metadata": {},
   "source": [
    "# Development environment\n"
   ]
  },
  {
   "cell_type": "code",
   "execution_count": null,
   "id": "980439b6-d91e-467e-a0b8-45a0d6637c45",
   "metadata": {},
   "outputs": [],
   "source": [
    "# install packages\n",
    "! pip install scikit-learn\n",
    "! pip install datasets\n",
    "! pip install wandb\n",
    "! pip install seaborn "
   ]
  },
  {
   "cell_type": "code",
   "execution_count": null,
   "id": "a272f7c4-8dec-4ec8-986c-2ee28ed366f6",
   "metadata": {},
   "outputs": [],
   "source": [
    "import pandas as pd\n",
    "from datasets import load_dataset\n",
    "from sklearn.feature_extraction.text import CountVectorizer\n",
    "from sklearn.linear_model import SGDClassifier\n",
    "from sklearn import metrics\n",
    "import wandb\n",
    "\n",
    "import seaborn as sns\n",
    "import matplotlib.pyplot as plt"
   ]
  },
  {
   "cell_type": "code",
   "execution_count": null,
   "id": "adda5aa5-1297-4767-b36e-05fe6df2cb6a",
   "metadata": {},
   "outputs": [],
   "source": [
    "%matplotlib inline\n"
   ]
  },
  {
   "cell_type": "markdown",
   "id": "ae1fefb0-57aa-42b4-9e79-de716dbc4a72",
   "metadata": {},
   "source": [
    "# Login to Weights and Biases\n"
   ]
  },
  {
   "cell_type": "code",
   "execution_count": null,
   "id": "c6fa52d8-503d-4b86-8834-6029987595aa",
   "metadata": {},
   "outputs": [],
   "source": [
    "wandb.login()\n"
   ]
  },
  {
   "cell_type": "code",
   "execution_count": null,
   "id": "74339f73-9f92-455c-b1bd-ce5fb9fadeed",
   "metadata": {},
   "outputs": [],
   "source": [
    "wandb.init(project=\"sutd-mlops-project\", config={\"learning_rate\": 0.01})\n",
    "config = wandb.config"
   ]
  },
  {
   "cell_type": "markdown",
   "id": "77f84068-a112-46a0-b531-494a903eccae",
   "metadata": {},
   "source": [
    "# Prepare data\n"
   ]
  },
  {
   "cell_type": "code",
   "execution_count": null,
   "id": "730b9f1f-5862-40c0-8b10-a1b7c23fac90",
   "metadata": {},
   "outputs": [],
   "source": [
    "dataset = load_dataset(\"rotten_tomatoes\")\n",
    "dataset[\"train\"][0]"
   ]
  },
  {
   "cell_type": "code",
   "execution_count": null,
   "id": "73e74b99-1df7-42fa-98ff-51f9849f76dd",
   "metadata": {},
   "outputs": [],
   "source": [
    "print(dataset[\"train\"].column_names)\n"
   ]
  },
  {
   "cell_type": "code",
   "execution_count": null,
   "id": "9f8915fe-1ed9-4b4a-82ed-fa34de18427f",
   "metadata": {},
   "outputs": [],
   "source": [
    "labels = list(set(dataset['train']['label']))\n",
    "print(\"Labels:\", labels)"
   ]
  },
  {
   "cell_type": "code",
   "execution_count": null,
   "id": "fdbf3671-1066-4458-92fd-dc1932094187",
   "metadata": {},
   "outputs": [],
   "source": [
    "sns.countplot(x=dataset['train']['label'])\n",
    "plt.xlabel('label');"
   ]
  },
  {
   "cell_type": "code",
   "execution_count": null,
   "id": "8f73f29c-9728-4a19-8d5a-9e7440d56f8d",
   "metadata": {},
   "outputs": [],
   "source": [
    "train_text = [instance['text'] for instance in dataset['train']]\n",
    "train_labels = [instance['label'] for instance in dataset['train']]\n",
    "\n",
    "test_text = [instance['text'] for instance in dataset['test']]\n",
    "test_labels = [instance['label'] for instance in dataset['test']]"
   ]
  },
  {
   "cell_type": "code",
   "execution_count": null,
   "id": "9562c182-b658-49b3-bcd3-852052dc7e9c",
   "metadata": {},
   "outputs": [],
   "source": [
    "count_vect = CountVectorizer()\n",
    "train_features = count_vect.fit_transform(train_text)\n",
    "test_features = count_vect.transform(test_text)\n"
   ]
  },
  {
   "cell_type": "markdown",
   "id": "0f27bb73-f483-4364-9b9a-59493031cfcf",
   "metadata": {},
   "source": [
    "# Train the model\n"
   ]
  },
  {
   "cell_type": "code",
   "execution_count": null,
   "id": "54deb077-2ede-425c-91f8-32d24381f4fe",
   "metadata": {},
   "outputs": [],
   "source": [
    "model = SGDClassifier(loss=\"log_loss\", learning_rate='constant', eta0=config.learning_rate).fit(train_features, train_labels)\n"
   ]
  },
  {
   "cell_type": "markdown",
   "id": "d7958c9e-6aab-4066-a0f0-0296e08c0935",
   "metadata": {},
   "source": [
    "# Test the model\n"
   ]
  },
  {
   "cell_type": "code",
   "execution_count": null,
   "id": "4106f683-1c93-414f-b7ba-31a3722367da",
   "metadata": {},
   "outputs": [],
   "source": [
    "test_predicted = model.predict(test_features)\n",
    "test_proba = model.predict_proba(test_features)\n",
    "accuracy = metrics.accuracy_score(test_labels, test_predicted)\n",
    "print(accuracy)"
   ]
  },
  {
   "cell_type": "code",
   "execution_count": null,
   "id": "75a0b09a-9b6e-4fe6-9269-fa93643f7913",
   "metadata": {},
   "outputs": [],
   "source": [
    "wandb.log({\"accuracy\": accuracy})\n",
    "wandb.sklearn.plot_precision_recall(test_labels, test_proba, [\"negative\", \"positive\"])\n",
    "\n"
   ]
  },
  {
   "cell_type": "code",
   "execution_count": null,
   "id": "863a79db",
   "metadata": {},
   "outputs": [],
   "source": [
    "wandb.finish()\n"
   ]
  },
  {
   "cell_type": "markdown",
   "id": "fcc57acf-c65a-4ba7-9d9c-9b212251e542",
   "metadata": {},
   "source": [
    "# What to try next\n",
    "\n",
    "- experiment with different training parameters (iterations, learning rate, regulartization, ...)\n",
    "- experiment with different training set sizes\n",
    "- the dataset also has a validation set, what is the accuracy here?\n",
    "- use Weights & Biases plots to get more insights into the model behavior \n"
   ]
  }
 ],
 "metadata": {
  "kernelspec": {
   "display_name": "Python 3 (ipykernel)",
   "language": "python",
   "name": "python3"
  },
  "language_info": {
   "codemirror_mode": {
    "name": "ipython",
    "version": 3
   },
   "file_extension": ".py",
   "mimetype": "text/x-python",
   "name": "python",
   "nbconvert_exporter": "python",
   "pygments_lexer": "ipython3",
   "version": "3.11.6"
  }
 },
 "nbformat": 4,
 "nbformat_minor": 5
}
