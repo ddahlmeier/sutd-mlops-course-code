{
 "cells": [
  {
   "cell_type": "markdown",
   "id": "411e901c-2a20-4543-a110-56032c9a698a",
   "metadata": {},
   "source": [
    "# Finetune bert classifier for sentiment classification\n",
    "Example from https://huggingface.co/docs/transformers/training"
   ]
  },
  {
   "cell_type": "markdown",
   "id": "d2512244-c9e7-40cc-a49d-8810960f66e0",
   "metadata": {},
   "source": [
    "# Development environment\n"
   ]
  },
  {
   "cell_type": "code",
   "execution_count": null,
   "id": "c9dc6ace-e8af-4ab1-8a0d-cc15bb6572f7",
   "metadata": {
    "scrolled": true
   },
   "outputs": [],
   "source": [
    "! pip install -U transformers[torch]\n",
    "! pip install -U accelerate\n",
    "! pip install datasets\n",
    "! pip install evaluate\n",
    "! pip install scikit-learn\n",
    "! pip install wandb\n"
   ]
  },
  {
   "cell_type": "code",
   "execution_count": null,
   "id": "81ba13c7-c749-4988-937e-83c170dce08f",
   "metadata": {},
   "outputs": [],
   "source": [
    "import warnings\n",
    "warnings.filterwarnings(\"ignore\")\n",
    "\n",
    "import transformers\n",
    "from datasets import load_dataset\n",
    "from transformers import AutoTokenizer\n",
    "from transformers import TrainingArguments, Trainer\n",
    "from transformers import AutoModelForSequenceClassification\n",
    "import wandb\n",
    "import time\n",
    "\n",
    "import numpy as np\n",
    "import evaluate\n"
   ]
  },
  {
   "cell_type": "markdown",
   "id": "90d4da41-b471-44da-86e5-2df89ef75b63",
   "metadata": {},
   "source": [
    "# Login to Weights and Biases\n"
   ]
  },
  {
   "cell_type": "code",
   "execution_count": null,
   "id": "3c7258a6-ba86-46b4-920b-8eae840d12f8",
   "metadata": {},
   "outputs": [],
   "source": [
    "wandb.login()\n"
   ]
  },
  {
   "cell_type": "code",
   "execution_count": null,
   "id": "3cbdacef-88c6-4163-bf8f-7a91e766bf6d",
   "metadata": {},
   "outputs": [],
   "source": [
    "wandb.init(\n",
    "      # Set the project where this run will be logged\n",
    "      project=\"sutd-mlops-project\", \n",
    "      # We pass a run name (otherwise it’ll be randomly assigned, like sunshine-lollypop-10)\n",
    "      name=f\"experiment_session3_run_1\", \n",
    "      # Track hyperparameters and run metadata\n",
    "      config={\n",
    "          \"learning_rate\": 2e-5,\n",
    "          \"weight_decay\": 0.01,\n",
    "          \"num_train_epochs\": 2,\n",
    "          \"train_subsample_size\": 1000,\n",
    "          \"architecture\": \"distilbert\",\n",
    "          \"dataset_name\": \"rotten_tomatoes\",\n",
    "          \"model_name\": \"distilbert-base-uncased\"\n",
    "      })\n",
    "config = wandb.config"
   ]
  },
  {
   "cell_type": "markdown",
   "id": "1d3766f5-c228-413b-b980-3d3e5734ae0c",
   "metadata": {},
   "source": [
    "# Prepare data\n"
   ]
  },
  {
   "cell_type": "code",
   "execution_count": null,
   "id": "f188f12a-8acd-4aed-9713-9df9c6a5629a",
   "metadata": {},
   "outputs": [],
   "source": [
    "dataset = load_dataset(config.dataset_name)\n",
    "dataset[\"train\"][0]"
   ]
  },
  {
   "cell_type": "code",
   "execution_count": null,
   "id": "1373b958-c7e9-4dc0-aacd-b0277c5f8f54",
   "metadata": {},
   "outputs": [],
   "source": [
    "tokenizer = AutoTokenizer.from_pretrained(config.model_name)\n",
    "\n",
    "def tokenize_function(examples):\n",
    "    return tokenizer(examples[\"text\"], padding=\"max_length\", truncation=True)\n",
    "\n",
    "tokenized_datasets = dataset.map(tokenize_function, batched=True)"
   ]
  },
  {
   "cell_type": "code",
   "execution_count": null,
   "id": "fe765924-396d-4055-ab91-fe8e6d1229ab",
   "metadata": {},
   "outputs": [],
   "source": [
    "small_train_dataset = tokenized_datasets[\"train\"].shuffle(seed=42).select(range(config.train_subsample_size))\n",
    "small_eval_dataset = tokenized_datasets[\"validation\"].shuffle(seed=42).select(range(100))\n",
    "small_test_dataset = tokenized_datasets[\"test\"].shuffle(seed=42).select(range(100))"
   ]
  },
  {
   "cell_type": "markdown",
   "id": "8cda2cd3-6d5e-4414-ab88-75ffe0c0c134",
   "metadata": {},
   "source": [
    "# Train the model\n"
   ]
  },
  {
   "cell_type": "code",
   "execution_count": null,
   "id": "0caefc42-7124-4108-b39f-6e5d57d7d1b6",
   "metadata": {},
   "outputs": [],
   "source": [
    "num_labels = len(np.unique(dataset['train']['label']))\n",
    "model = AutoModelForSequenceClassification.from_pretrained(config.model_name, num_labels=num_labels)"
   ]
  },
  {
   "cell_type": "code",
   "execution_count": null,
   "id": "4b4a7a7e-4bcb-42f7-9a43-45e2199360fc",
   "metadata": {},
   "outputs": [],
   "source": [
    "metric = evaluate.load(\"accuracy\")"
   ]
  },
  {
   "cell_type": "code",
   "execution_count": null,
   "id": "7716db15-d0f0-4bd4-90d1-8881454784ce",
   "metadata": {},
   "outputs": [],
   "source": [
    "def compute_metrics(eval_pred):\n",
    "    logits, labels = eval_pred\n",
    "    predictions = np.argmax(logits, axis=-1)\n",
    "    return metric.compute(predictions=predictions, references=labels)"
   ]
  },
  {
   "cell_type": "code",
   "execution_count": null,
   "id": "1a3d1697-4a2a-4679-8efe-cb6107fdc1de",
   "metadata": {},
   "outputs": [],
   "source": [
    "training_args = TrainingArguments(\n",
    "    output_dir=\".\",\n",
    "    report_to=\"wandb\",\n",
    "    evaluation_strategy=\"epoch\",\n",
    "    learning_rate=config.learning_rate,\n",
    "    weight_decay=config.weight_decay,\n",
    "    num_train_epochs=config.num_train_epochs,\n",
    "    logging_steps=20)"
   ]
  },
  {
   "cell_type": "code",
   "execution_count": null,
   "id": "b961a807-9b5e-4425-8be9-51716a04e2c4",
   "metadata": {},
   "outputs": [],
   "source": [
    "trainer = Trainer(\n",
    "    model=model,\n",
    "    args=training_args,\n",
    "    train_dataset=small_train_dataset,\n",
    "    eval_dataset=small_eval_dataset,\n",
    "    compute_metrics=compute_metrics,\n",
    ")"
   ]
  },
  {
   "cell_type": "code",
   "execution_count": null,
   "id": "3e77751c-17b5-4be3-a57e-5ffe45a2014b",
   "metadata": {},
   "outputs": [],
   "source": [
    "trainer.train()"
   ]
  },
  {
   "cell_type": "markdown",
   "id": "a6d4cc7c-16af-4eda-af0a-59f8dbaf8402",
   "metadata": {},
   "source": [
    "# Test the model\n"
   ]
  },
  {
   "cell_type": "code",
   "execution_count": null,
   "id": "731a4c1f-06c3-485a-ae50-73a11bbabda2",
   "metadata": {},
   "outputs": [],
   "source": [
    "# Accuracy on training set\n",
    "trainer.evaluate(small_train_dataset)"
   ]
  },
  {
   "cell_type": "code",
   "execution_count": null,
   "id": "bfe19bb1",
   "metadata": {},
   "outputs": [],
   "source": [
    "# Accuracy on validation set\n",
    "trainer.evaluate(small_eval_dataset)"
   ]
  },
  {
   "cell_type": "code",
   "execution_count": null,
   "id": "33197a82",
   "metadata": {},
   "outputs": [],
   "source": [
    "# Accuracy on test set\n",
    "trainer.evaluate(small_test_dataset)\n"
   ]
  },
  {
   "cell_type": "code",
   "execution_count": null,
   "id": "9928582e",
   "metadata": {},
   "outputs": [],
   "source": [
    "# accuracy of the whole test set - for fair comparison with the classification performance achieved by SGD in previous sessions\n",
    "def predict(tokenized_test_data, trainer):\n",
    "    output_array = trainer.predict(tokenized_test_data)[0]\n",
    "    pred_prob = np.exp(output_array)/np.sum(np.exp(output_array), axis = 1)[..., None]\n",
    "    pred = np.argmax(pred_prob, axis = 1)\n",
    "    return pred_prob, pred \n",
    "\n",
    "pred_prob, pred  = predict(tokenized_datasets[\"test\"], trainer)\n",
    "accuracy = np.sum(pred == dataset[\"test\"]['label'])/len(dataset[\"test\"]['label'])\n",
    "print(f\"Accuracy: {accuracy}\")\n",
    "wandb.sklearn.plot_precision_recall(dataset[\"test\"]['label'], pred_prob, [\"negative\", \"positive\"])"
   ]
  },
  {
   "cell_type": "code",
   "execution_count": null,
   "id": "def5476d-8c3c-4eec-aea2-d0017d99ccff",
   "metadata": {},
   "outputs": [],
   "source": [
    "wandb.finish()\n"
   ]
  },
  {
   "cell_type": "markdown",
   "id": "8d5163d3-91c1-47fc-be06-68a263d660c9",
   "metadata": {},
   "source": [
    "# What to try next\n",
    "\n",
    "- train and evaluate with the complete training and test dataset instead of a sample\n",
    "- experiment with different training parameters (number of epochs, optimizers, batch size, learning rate schedule, ...)\n",
    "- compare DistilBERT vs the full BERT model: https://huggingface.co/bert-base-uncased\n",
    "- compare the results with the scikit model from the previous notebook. What is the cost-benefit trade off between deep learning and traditional ML?\n",
    "- Check out this more detailed sentiment tutorial on Huggingface https://huggingface.co/blog/sentiment-analysis-python"
   ]
  },
  {
   "cell_type": "code",
   "execution_count": null,
   "id": "24f21049-158d-4e9d-be20-2b2df5ece6a3",
   "metadata": {},
   "outputs": [],
   "source": []
  }
 ],
 "metadata": {
  "kernelspec": {
   "display_name": "Python 3 (ipykernel)",
   "language": "python",
   "name": "python3"
  },
  "language_info": {
   "codemirror_mode": {
    "name": "ipython",
    "version": 3
   },
   "file_extension": ".py",
   "mimetype": "text/x-python",
   "name": "python",
   "nbconvert_exporter": "python",
   "pygments_lexer": "ipython3",
   "version": "3.10.13"
  }
 },
 "nbformat": 4,
 "nbformat_minor": 5
}
