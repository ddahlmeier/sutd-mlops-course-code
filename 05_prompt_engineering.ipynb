{
 "cells": [
  {
   "attachments": {},
   "cell_type": "markdown",
   "metadata": {},
   "source": [
    "# Getting Started with Prompt Engineering\n",
    "\n",
    "This notebook contains examples and exercises to learning about prompt engineering.\n",
    "It is adapted to the Google AI Studio API from original OpenAI used in the [prompt engineering guide by DAIR.AI | Elvis Saravia](https://github.com/dair-ai/Prompt-Engineering-Guide/blob/main/notebooks/pe-lecture.ipynb)\n"
   ]
  },
  {
   "attachments": {},
   "cell_type": "markdown",
   "metadata": {},
   "source": [
    "---"
   ]
  },
  {
   "cell_type": "markdown",
   "metadata": {},
   "source": [
    "## 0. Create Google AI Studio account and get API keys\n",
    "\n",
    "1. Go to https://aistudio.google.com/\n",
    "2. Sign in with your Google account\n",
    "3. Go to https://ai.google.dev/gemini-api/docs/api-key and get the API key\n",
    "\n",
    "If you want, check out https://ai.google.dev/gemini-api/docs/quickstart for more details."
   ]
  },
  {
   "attachments": {},
   "cell_type": "markdown",
   "metadata": {},
   "source": [
    "## 1. Prompt Engineering Basics\n",
    "\n",
    "Objectives\n",
    "- Load the libraries\n",
    "- Review the format\n",
    "- Cover basic prompts\n",
    "- Review common use cases"
   ]
  },
  {
   "attachments": {},
   "cell_type": "markdown",
   "metadata": {},
   "source": [
    "Below we are loading the necessary libraries, utilities, and configurations."
   ]
  },
  {
   "cell_type": "code",
   "execution_count": null,
   "metadata": {},
   "outputs": [],
   "source": [
    "%%capture\n",
    "# update or install the necessary libraries\n",
    "!pip install --upgrade google-genai\n",
    "!pip install --upgrade python-dotenv\n",
    "#!pip install --upgrade langchain\n",
    "#!pip install langchain-community langchain-core\n"
   ]
  },
  {
   "cell_type": "code",
   "execution_count": 37,
   "metadata": {},
   "outputs": [],
   "source": [
    "\n",
    "from google import genai\n",
    "from google.genai import types\n",
    "\n",
    "import os\n",
    "import IPython\n",
    "from dotenv import load_dotenv"
   ]
  },
  {
   "attachments": {},
   "cell_type": "markdown",
   "metadata": {},
   "source": [
    "Load environment variables. You can use anything you like but I used `python-dotenv`. Just create a `.env` file with your `GEMINI_API_KEY` then load it."
   ]
  },
  {
   "cell_type": "code",
   "execution_count": 10,
   "metadata": {},
   "outputs": [
    {
     "data": {
      "text/plain": [
       "True"
      ]
     },
     "execution_count": 10,
     "metadata": {},
     "output_type": "execute_result"
    }
   ],
   "source": [
    "load_dotenv()"
   ]
  },
  {
   "cell_type": "markdown",
   "metadata": {},
   "source": [
    "Let's check that the API works as expected."
   ]
  },
  {
   "cell_type": "code",
   "execution_count": 19,
   "metadata": {},
   "outputs": [
    {
     "name": "stdout",
     "output_type": "stream",
     "text": [
      "Okay, let's break down how AI (Artificial Intelligence) works.  It's a broad field, so I'll give you a general overview and then touch on some key techniques.\n",
      "\n",
      "**Core Idea: Mimicking Human Intelligence**\n",
      "\n",
      "At its heart, AI aims to create machines that can perform tasks that typically require human intelligence. This includes:\n",
      "\n",
      "*   **Learning:** Acquiring information and rules for using the information.\n",
      "*   **Reasoning:**  Using information to draw conclusions and make decisions.\n",
      "*   **Problem-solving:**  Finding solutions to complex problems.\n",
      "*   **Perception:** Understanding sensory input (like images, sounds, or text).\n",
      "*   **Natural Language Processing (NLP):** Understanding and generating human language.\n",
      "\n",
      "**How AI Achieves This (Key Concepts)**\n",
      "\n",
      "AI relies on algorithms and data.  Algorithms are sets of instructions that tell a computer how to perform a specific task. Here's a breakdown of some fundamental concepts:\n",
      "\n",
      "1.  **Data:**  AI systems learn from data. The more data, the better they can often perform. This data can be anything from images, text, numbers, sound, to user behavior.\n",
      "\n",
      "2.  **Algorithms:**\n",
      "    *   **Rule-based systems:**  These systems use a set of predefined rules to make decisions. They're often used in simple AI applications. For example, a spam filter might use rules like \"If an email contains the word 'Viagra' and comes from an unknown sender, mark it as spam.\"\n",
      "    *   **Machine Learning (ML):** This is the most prevalent type of AI today. Instead of being explicitly programmed, ML algorithms learn patterns from data.\n",
      "        *   **Supervised Learning:** The algorithm is trained on labeled data (data where the correct answer is already known).  For example, if you want to train an AI to identify cats in images, you would provide it with a large dataset of images, each labeled as either \"cat\" or \"not cat.\" The algorithm learns to associate features in the images with the correct label.\n",
      "        *   **Unsupervised Learning:** The algorithm is trained on unlabeled data.  It tries to find hidden patterns and structures in the data.  For example, you could use unsupervised learning to group customers into different segments based on their purchasing behavior.\n",
      "        *   **Reinforcement Learning:** The algorithm learns by trial and error, receiving rewards or penalties for its actions.  It's often used in robotics and game playing.  For example, an AI playing a video game might be rewarded for winning and penalized for losing.\n",
      "\n",
      "3.  **Neural Networks and Deep Learning:**\n",
      "    *   **Neural Networks:** These are a type of machine learning algorithm inspired by the structure of the human brain.  They consist of interconnected nodes (neurons) organized in layers.  Data flows through these layers, with each node performing a simple calculation. The connections between nodes have weights that are adjusted during training.\n",
      "    *   **Deep Learning:**  This is a subfield of machine learning that uses neural networks with many layers (hence \"deep\").  Deep learning has been particularly successful in tasks like image recognition, natural language processing, and speech recognition.  Deep learning can automatically learn complex features from raw data, eliminating the need for manual feature engineering. Convolutional Neural Networks (CNNs) are commonly used for image processing, while Recurrent Neural Networks (RNNs) are often used for sequence data like text or speech. Transformers are a newer type of neural network architecture that has revolutionized NLP.\n",
      "\n",
      "4.  **Natural Language Processing (NLP):** This branch of AI focuses on enabling computers to understand, interpret, and generate human language. NLP techniques include:\n",
      "    *   **Text analysis:**  Analyzing text to extract meaning, sentiment, and topics.\n",
      "    *   **Machine translation:**  Translating text from one language to another.\n",
      "    *   **Chatbots:**  Creating conversational AI agents.\n",
      "    *   **Speech recognition:** Converting spoken language into text.\n",
      "    *   **Text generation:** Creating text from data or other inputs.\n",
      "\n",
      "**A Simple Example: Email Spam Filter (Supervised Learning)**\n",
      "\n",
      "1.  **Data:**  A large collection of emails, labeled as either \"spam\" or \"not spam\" (ham).\n",
      "2.  **Features:**  The AI analyzes features of each email, such as:\n",
      "    *   Presence of certain keywords (e.g., \"Viagra,\" \"free,\" \"urgent\").\n",
      "    *   Sender's email address and domain.\n",
      "    *   Frequency of certain characters (e.g., excessive use of exclamation marks).\n",
      "    *   Presence of links to suspicious websites.\n",
      "3.  **Algorithm:**  A supervised learning algorithm (e.g., a Naive Bayes classifier or a Support Vector Machine) is trained on the labeled data. The algorithm learns which features are most indicative of spam.\n",
      "4.  **Prediction:** When a new email arrives, the AI extracts its features and uses the trained model to predict whether it's spam or not. The email is then filtered accordingly.\n",
      "\n",
      "**The AI Development Process**\n",
      "\n",
      "1.  **Define the problem:** Clearly identify the task you want the AI to perform.\n",
      "2.  **Collect and prepare data:** Gather relevant data and clean it up.\n",
      "3.  **Choose an algorithm:** Select the appropriate algorithm based on the problem and the data.\n",
      "4.  **Train the model:** Train the algorithm on the data.\n",
      "5.  **Evaluate the model:** Assess the performance of the model on a separate dataset (the \"test set\").\n",
      "6.  **Deploy the model:** Put the model into use.\n",
      "7.  **Monitor and retrain:** Continuously monitor the model's performance and retrain it as needed with new data.\n",
      "\n",
      "**Challenges in AI**\n",
      "\n",
      "*   **Data Requirements:** Many AI algorithms require vast amounts of data to train effectively.\n",
      "*   **Bias:** AI models can inherit biases present in the training data, leading to unfair or discriminatory outcomes.\n",
      "*   **Explainability:** Deep learning models can be difficult to interpret, making it hard to understand why they make certain predictions (the \"black box\" problem).\n",
      "*   **Ethical Concerns:** AI raises a number of ethical concerns, such as job displacement, autonomous weapons, and privacy.\n",
      "*   **Computational Resources:** Training complex AI models can require significant computational resources.\n",
      "\n",
      "**In summary:** AI is a field dedicated to creating machines that can perform tasks requiring human intelligence. It utilizes algorithms (rule-based or learned through machine learning), often leveraging large datasets to identify patterns and make predictions. Neural networks and deep learning have revolutionized many areas of AI, but the field still faces challenges related to data, bias, explainability, ethics, and computational resources.\n"
     ]
    }
   ],
   "source": [
    "client = genai.Client(api_key=os.getenv(\"GEMINI_API_KEY\"))\n",
    "response = client.models.generate_content(\n",
    "    model=\"gemini-2.0-flash\", contents=\"Explain how AI works\"\n",
    ")\n",
    "print(response.text)\n"
   ]
  },
  {
   "cell_type": "code",
   "execution_count": 38,
   "metadata": {},
   "outputs": [],
   "source": [
    "def set_params(\n",
    "    model=\"gemini-2.0-flash\",\n",
    "    temperature=0.7,\n",
    "    max_tokens=256,\n",
    "    top_p=1,\n",
    "    frequency_penalty=0,\n",
    "    presence_penalty=0,\n",
    "):\n",
    "    \"\"\" set Gemini parameters\"\"\"\n",
    "\n",
    "    gemini_params = {}    \n",
    "\n",
    "    gemini_params['model'] = model\n",
    "    gemini_params['temperature'] = temperature\n",
    "    gemini_params['max_output_tokens'] = max_tokens\n",
    "    gemini_params['top_p'] = top_p\n",
    "    gemini_params['frequency_penalty'] = frequency_penalty\n",
    "    gemini_params['presence_penalty'] = presence_penalty\n",
    "    return gemini_params\n",
    "\n",
    "def get_completion(params, prompt):\n",
    "    \"\"\" GET completion from Google Gemini api\"\"\"\n",
    "\n",
    "    response = client.models.generate_content(\n",
    "        model = params['model'],\n",
    "        contents=prompt,\n",
    "        config=types.GenerateContentConfig(\n",
    "            temperature=params['temperature'],\n",
    "            top_p=params['top_p'],\n",
    "            max_output_tokens=params['max_output_tokens'],\n",
    "            presence_penalty=params['presence_penalty'],\n",
    "            frequency_penalty=params['frequency_penalty'],\n",
    "        ))\n",
    "    return response\n"
   ]
  },
  {
   "attachments": {},
   "cell_type": "markdown",
   "metadata": {},
   "source": [
    "Basic prompt example:"
   ]
  },
  {
   "cell_type": "code",
   "execution_count": 39,
   "metadata": {},
   "outputs": [],
   "source": [
    "# basic example\n",
    "params = set_params()\n",
    "\n",
    "prompt = \"The sky is\"\n",
    "\n",
    "response = get_completion(params, prompt)"
   ]
  },
  {
   "cell_type": "code",
   "execution_count": 40,
   "metadata": {},
   "outputs": [
    {
     "data": {
      "text/plain": [
       "\"The sky is **blue** (on a typical sunny day).\\n\\nHowever, it could also be:\\n\\n*   **Gray** (when it's cloudy)\\n*   **Dark** (at night)\\n*   **Orange, pink, or purple** (during sunrise or sunset)\\n*   **Black** (in space)\\n\\nIs there any specific time or condition you'd like me to describe the sky in?\""
      ]
     },
     "execution_count": 40,
     "metadata": {},
     "output_type": "execute_result"
    }
   ],
   "source": [
    "response.text"
   ]
  },
  {
   "attachments": {},
   "cell_type": "markdown",
   "metadata": {},
   "source": [
    "Try with different temperature to compare results:"
   ]
  },
  {
   "cell_type": "code",
   "execution_count": 47,
   "metadata": {},
   "outputs": [
    {
     "data": {
      "text/markdown": [
       "The sky is **blue** (on a typical sunny day).\n",
       "\n",
       "However, it could also be:\n",
       "\n",
       "*   **Gray** (on a cloudy day)\n",
       "*   **Orange/Pink/Red** (during sunrise or sunset)\n",
       "*   **Black** (at night)\n",
       "*   **Purple** (sometimes during twilight or storms)\n",
       "*   **Full of stars** (at night, away from city lights)\n",
       "*   **Overcast**\n",
       "*   **Clear**\n",
       "\n",
       "What would you like me to elaborate on?\n"
      ],
      "text/plain": [
       "<IPython.core.display.Markdown object>"
      ]
     },
     "execution_count": 47,
     "metadata": {},
     "output_type": "execute_result"
    }
   ],
   "source": [
    "params = set_params(temperature=0)\n",
    "response = get_completion(params, prompt)\n",
    "IPython.display.Markdown(response.text)"
   ]
  },
  {
   "attachments": {},
   "cell_type": "markdown",
   "metadata": {},
   "source": [
    "### 1.1 Text Summarization"
   ]
  },
  {
   "cell_type": "code",
   "execution_count": 48,
   "metadata": {},
   "outputs": [
    {
     "data": {
      "text/markdown": [
       "Antibiotics are medications that combat bacterial infections by killing or inhibiting bacterial growth, taken orally or intravenously, but are ineffective against viruses and can contribute to antibiotic resistance if misused.\n"
      ],
      "text/plain": [
       "<IPython.core.display.Markdown object>"
      ]
     },
     "execution_count": 48,
     "metadata": {},
     "output_type": "execute_result"
    }
   ],
   "source": [
    "params = set_params(temperature=0.7)\n",
    "prompt = \"\"\"Antibiotics are a type of medication used to treat bacterial infections. They work by either killing the bacteria or preventing them from reproducing, allowing the body's immune system to fight off the infection. Antibiotics are usually taken orally in the form of pills, capsules, or liquid solutions, or sometimes administered intravenously. They are not effective against viral infections, and using them inappropriately can lead to antibiotic resistance. \n",
    "\n",
    "Explain the above in one sentence:\"\"\"\n",
    "\n",
    "response = get_completion(params, prompt)\n",
    "IPython.display.Markdown(response.text)"
   ]
  },
  {
   "attachments": {},
   "cell_type": "markdown",
   "metadata": {},
   "source": [
    "Exercise: Instruct the model to explain the paragraph in one sentence like \"I am 5\". Do you see any differences?"
   ]
  },
  {
   "attachments": {},
   "cell_type": "markdown",
   "metadata": {},
   "source": [
    "### 1.2 Question Answering"
   ]
  },
  {
   "cell_type": "code",
   "execution_count": 49,
   "metadata": {},
   "outputs": [
    {
     "data": {
      "text/markdown": [
       "Mice\n"
      ],
      "text/plain": [
       "<IPython.core.display.Markdown object>"
      ]
     },
     "execution_count": 49,
     "metadata": {},
     "output_type": "execute_result"
    }
   ],
   "source": [
    "prompt = \"\"\"Answer the question based on the context below. Keep the answer short and concise. Respond \"Unsure about answer\" if not sure about the answer.\n",
    "\n",
    "Context: Teplizumab traces its roots to a New Jersey drug company called Ortho Pharmaceutical. There, scientists generated an early version of the antibody, dubbed OKT3. Originally sourced from mice, the molecule was able to bind to the surface of T cells and limit their cell-killing potential. In 1986, it was approved to help prevent organ rejection after kidney transplants, making it the first therapeutic antibody allowed for human use.\n",
    "\n",
    "Question: What was OKT3 originally sourced from?\n",
    "\n",
    "Answer:\"\"\"\n",
    "\n",
    "\n",
    "response = get_completion(params, prompt)\n",
    "IPython.display.Markdown(response.text)\n"
   ]
  },
  {
   "attachments": {},
   "cell_type": "markdown",
   "metadata": {},
   "source": [
    "Context obtained from here: https://www.nature.com/articles/d41586-023-00400-x"
   ]
  },
  {
   "attachments": {},
   "cell_type": "markdown",
   "metadata": {},
   "source": [
    "Exercise: Edit prompt and get the model to respond that it isn't sure about the answer. "
   ]
  },
  {
   "attachments": {},
   "cell_type": "markdown",
   "metadata": {},
   "source": [
    "### 1.3 Text Classification"
   ]
  },
  {
   "cell_type": "code",
   "execution_count": 50,
   "metadata": {},
   "outputs": [
    {
     "data": {
      "text/markdown": [
       "Sentiment: **Neutral**\n"
      ],
      "text/plain": [
       "<IPython.core.display.Markdown object>"
      ]
     },
     "execution_count": 50,
     "metadata": {},
     "output_type": "execute_result"
    }
   ],
   "source": [
    "prompt = \"\"\"Classify the text into neutral, negative or positive.\n",
    "\n",
    "Text: I think the food was okay.\n",
    "\n",
    "Sentiment:\"\"\"\n",
    "\n",
    "response = get_completion(params, prompt)\n",
    "IPython.display.Markdown(response.text)"
   ]
  },
  {
   "attachments": {},
   "cell_type": "markdown",
   "metadata": {},
   "source": [
    "Exercise: Modify the prompt to instruct the model to provide an explanation to the answer selected. "
   ]
  },
  {
   "attachments": {},
   "cell_type": "markdown",
   "metadata": {},
   "source": [
    "### 1.4 Role Playing"
   ]
  },
  {
   "cell_type": "code",
   "execution_count": 51,
   "metadata": {},
   "outputs": [
    {
     "data": {
      "text/markdown": [
       "Affirmative. Black holes, celestial objects exhibiting gravitational fields so intense that no matter or radiation can escape, primarily form through two well-established astrophysical mechanisms:\n",
       "\n",
       "1.  **Stellar Collapse:** This is the most common pathway. When a massive star (typically exceeding 10-20 times the mass of our Sun) exhausts its nuclear fuel, it can no longer sustain the outward pressure required to counteract the inward pull of gravity. The star's core rapidly collapses under its own weight. If the core's mass exceeds the Tolman-Oppenheimer-Volkoff (TOV) limit (approximately 2.1 solar masses, though this value is subject to ongoing refinement based on the equation of state of nuclear matter), the collapse becomes unstoppable, leading to the formation of a stellar-mass black hole. The outer layers of the star are often ejected in a supernova explosion.\n",
       "\n",
       "2.  **Direct Collapse:** In certain less common scenarios, a very massive protostar (potentially hundreds or thousands of solar masses) can bypass the standard nuclear fusion processes due to extremely rapid accretion of material. Without the outward radiation pressure generated by nuclear reactions, the protostar undergoes a direct collapse into a black hole without a supernova. This process is hypothesized to"
      ],
      "text/plain": [
       "<IPython.core.display.Markdown object>"
      ]
     },
     "execution_count": 51,
     "metadata": {},
     "output_type": "execute_result"
    }
   ],
   "source": [
    "prompt = \"\"\"The following is a conversation with an AI research assistant. The assistant tone is technical and scientific.\n",
    "\n",
    "Human: Hello, who are you?\n",
    "AI: Greeting! I am an AI research assistant. How can I help you today?\n",
    "Human: Can you tell me about the creation of blackholes?\n",
    "AI:\"\"\"\n",
    "\n",
    "\n",
    "response = get_completion(params, prompt)\n",
    "IPython.display.Markdown(response.text)"
   ]
  },
  {
   "attachments": {},
   "cell_type": "markdown",
   "metadata": {},
   "source": [
    "Exercise: Modify the prompt to instruct the model to keep AI responses concise and short."
   ]
  },
  {
   "attachments": {},
   "cell_type": "markdown",
   "metadata": {},
   "source": [
    "### 1.5 Code Generation"
   ]
  },
  {
   "cell_type": "code",
   "execution_count": 52,
   "metadata": {},
   "outputs": [
    {
     "data": {
      "text/markdown": [
       "```sql\n",
       "SELECT s.StudentName\n",
       "FROM students s\n",
       "JOIN departments d ON s.DepartmentId = d.DepartmentId\n",
       "WHERE d.DepartmentName = 'Computer Science';\n",
       "```"
      ],
      "text/plain": [
       "<IPython.core.display.Markdown object>"
      ]
     },
     "execution_count": 52,
     "metadata": {},
     "output_type": "execute_result"
    }
   ],
   "source": [
    "prompt = \"\\\"\\\"\\\"\\nTable departments, columns = [DepartmentId, DepartmentName]\\nTable students, columns = [DepartmentId, StudentId, StudentName]\\nCreate a MySQL query for all students in the Computer Science Department\\n\\\"\\\"\\\"\"\n",
    "\n",
    "response = get_completion(params, prompt)\n",
    "IPython.display.Markdown(response.text)\n"
   ]
  },
  {
   "attachments": {},
   "cell_type": "markdown",
   "metadata": {},
   "source": [
    "### 1.6 Reasoning"
   ]
  },
  {
   "cell_type": "code",
   "execution_count": 53,
   "metadata": {},
   "outputs": [
    {
     "data": {
      "text/markdown": [
       "Okay, let's break this down:\n",
       "\n",
       "1.  **Identify the odd numbers:** From the list 15, 32, 5, 13, 82, 7, 1, the odd numbers are 15, 5, 13, 7, and 1.\n",
       "\n",
       "2.  **Add the odd numbers:** 15 + 5 + 13 + 7 + 1 = 41\n",
       "\n",
       "3.  **Determine if the result is odd or even:** 41 is an odd number.\n",
       "\n",
       "**Therefore, the sum of the odd numbers in the group is 41, which is an odd number.**\n"
      ],
      "text/plain": [
       "<IPython.core.display.Markdown object>"
      ]
     },
     "execution_count": 53,
     "metadata": {},
     "output_type": "execute_result"
    }
   ],
   "source": [
    "prompt = \"\"\"The odd numbers in this group add up to an even number: 15, 32, 5, 13, 82, 7, 1. \n",
    "\n",
    "Solve by breaking the problem into steps. First, identify the odd numbers, add them, and indicate whether the result is odd or even.\"\"\"\n",
    "\n",
    "\n",
    "response = get_completion(params, prompt)\n",
    "IPython.display.Markdown(response.text)"
   ]
  },
  {
   "attachments": {},
   "cell_type": "markdown",
   "metadata": {},
   "source": [
    "Exercise: Improve the prompt to have a better structure and output format."
   ]
  },
  {
   "attachments": {},
   "cell_type": "markdown",
   "metadata": {},
   "source": [
    "## 2. Advanced Prompting Techniques\n",
    "\n",
    "Objectives:\n",
    "\n",
    "- Cover more advanced techniques for prompting: few-shot, chain-of-thoughts,..."
   ]
  },
  {
   "attachments": {},
   "cell_type": "markdown",
   "metadata": {},
   "source": [
    "### 2.2 Few-shot prompts"
   ]
  },
  {
   "cell_type": "code",
   "execution_count": 54,
   "metadata": {},
   "outputs": [
    {
     "data": {
      "text/markdown": [
       "The odd numbers in this group add up to an even number: 15, 32, 5, 13, 82, 7, 1.\n",
       "Odd numbers: 15, 5, 13, 7, 1\n",
       "Sum: 15 + 5 + 13 + 7 + 1 = 41\n",
       "41 is an odd number.\n",
       "Therefore, the statement is False.\n",
       "\n",
       "A: The answer is False.\n"
      ],
      "text/plain": [
       "<IPython.core.display.Markdown object>"
      ]
     },
     "execution_count": 54,
     "metadata": {},
     "output_type": "execute_result"
    }
   ],
   "source": [
    "prompt = \"\"\"The odd numbers in this group add up to an even number: 4, 8, 9, 15, 12, 2, 1.\n",
    "A: The answer is False.\n",
    "\n",
    "The odd numbers in this group add up to an even number: 17,  10, 19, 4, 8, 12, 24.\n",
    "A: The answer is True.\n",
    "\n",
    "The odd numbers in this group add up to an even number: 16,  11, 14, 4, 8, 13, 24.\n",
    "A: The answer is True.\n",
    "\n",
    "The odd numbers in this group add up to an even number: 17,  9, 10, 12, 13, 4, 2.\n",
    "A: The answer is False.\n",
    "\n",
    "The odd numbers in this group add up to an even number: 15, 32, 5, 13, 82, 7, 1. \n",
    "A:\"\"\"\n",
    "\n",
    "\n",
    "response = get_completion(params, prompt)\n",
    "IPython.display.Markdown(response.text)"
   ]
  },
  {
   "attachments": {},
   "cell_type": "markdown",
   "metadata": {},
   "source": [
    "### 2.3 Chain-of-Thought (CoT) Prompting"
   ]
  },
  {
   "cell_type": "code",
   "execution_count": 55,
   "metadata": {},
   "outputs": [
    {
     "data": {
      "text/markdown": [
       "Adding all the odd numbers (15, 5, 13, 7, 1) gives 41. The answer is False.\n"
      ],
      "text/plain": [
       "<IPython.core.display.Markdown object>"
      ]
     },
     "execution_count": 55,
     "metadata": {},
     "output_type": "execute_result"
    }
   ],
   "source": [
    "prompt = \"\"\"The odd numbers in this group add up to an even number: 4, 8, 9, 15, 12, 2, 1.\n",
    "A: Adding all the odd numbers (9, 15, 1) gives 25. The answer is False.\n",
    "\n",
    "The odd numbers in this group add up to an even number: 15, 32, 5, 13, 82, 7, 1. \n",
    "A:\"\"\"\n",
    "\n",
    "response = get_completion(params, prompt)\n",
    "IPython.display.Markdown(response.text)"
   ]
  },
  {
   "attachments": {},
   "cell_type": "markdown",
   "metadata": {},
   "source": [
    "### 2.4 Zero-shot CoT"
   ]
  },
  {
   "cell_type": "code",
   "execution_count": 57,
   "metadata": {},
   "outputs": [
    {
     "data": {
      "text/markdown": [
       "1. **Start:** You began with 10 apples.\n",
       "2. **Gave to neighbor:** You gave away 2 apples, so you had 10 - 2 = 8 apples.\n",
       "3. **Gave to repairman:** You gave away another 2 apples, so you had 8 - 2 = 6 apples.\n",
       "4. **Bought more:** You bought 5 more apples, so you had 6 + 5 = 11 apples.\n",
       "5. **Ate one:** You ate 1 apple, so you had 11 - 1 = 10 apples.\n",
       "\n",
       "**Answer:** You remained with 10 apples.\n"
      ],
      "text/plain": [
       "<IPython.core.display.Markdown object>"
      ]
     },
     "execution_count": 57,
     "metadata": {},
     "output_type": "execute_result"
    }
   ],
   "source": [
    "prompt = \"\"\"I went to the market and bought 10 apples. I gave 2 apples to the neighbor and 2 to the repairman. I then went and bought 5 more apples and ate 1. How many apples did I remain with?\n",
    "\n",
    "Let's think step by step.\"\"\"\n",
    "\n",
    "\n",
    "response = get_completion(params, prompt)\n",
    "IPython.display.Markdown(response.text)"
   ]
  },
  {
   "attachments": {},
   "cell_type": "markdown",
   "metadata": {},
   "source": [
    "### 2.5 Self-Consistency\n",
    "As an exercise, check examples in our [guide](https://github.com/dair-ai/Prompt-Engineering-Guide/blob/main/guides/prompts-advanced-usage.md#self-consistency) and try them here. \n",
    "\n",
    "### 2.6 Generate Knowledge Prompting\n",
    "\n",
    "As an exercise, check examples in our [guide](https://github.com/dair-ai/Prompt-Engineering-Guide/blob/main/guides/prompts-advanced-usage.md#generated-knowledge-prompting) and try them here. "
   ]
  },
  {
   "attachments": {},
   "cell_type": "markdown",
   "metadata": {},
   "source": [
    "---"
   ]
  }
 ],
 "metadata": {
  "kernelspec": {
   "display_name": "cv_generation",
   "language": "python",
   "name": "cv_generation"
  },
  "language_info": {
   "codemirror_mode": {
    "name": "ipython",
    "version": 3
   },
   "file_extension": ".py",
   "mimetype": "text/x-python",
   "name": "python",
   "nbconvert_exporter": "python",
   "pygments_lexer": "ipython3",
   "version": "3.10.12"
  },
  "orig_nbformat": 4,
  "vscode": {
   "interpreter": {
    "hash": "f38e0373277d6f71ee44ee8fea5f1d408ad6999fda15d538a69a99a1665a839d"
   }
  }
 },
 "nbformat": 4,
 "nbformat_minor": 2
}
