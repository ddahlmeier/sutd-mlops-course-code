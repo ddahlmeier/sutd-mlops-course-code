{
 "cells": [
  {
   "cell_type": "markdown",
   "id": "b98cb247-aeed-429b-b60a-7200eaba88e9",
   "metadata": {},
   "source": [
    "# Try out Amazon Bedrock\n",
    "In this short tutorial you prompt an LLM model on AWS Bedrock.\n"
   ]
  },
  {
   "cell_type": "code",
   "execution_count": null,
   "id": "ef6f191b-5e00-4d15-94da-b9ec18dff1cc",
   "metadata": {},
   "outputs": [],
   "source": [
    "! pip install boto3==\"1.29.6\""
   ]
  },
  {
   "cell_type": "code",
   "execution_count": null,
   "id": "9adab3b3-306f-4761-b4ff-de96af2eab7f",
   "metadata": {},
   "outputs": [],
   "source": [
    "import boto3\n",
    "import json \n",
    "import botocore\n",
    "\n",
    "bedrock = boto3.client(service_name=\"bedrock\", region_name=\"us-east-1\")\n",
    "bedrock_runtime = boto3.client(service_name=\"bedrock-runtime\")"
   ]
  },
  {
   "cell_type": "code",
   "execution_count": null,
   "id": "d4dfadb2-f345-4161-b822-f269dc8f0239",
   "metadata": {},
   "outputs": [],
   "source": [
    "bedrock.list_foundation_models()\n"
   ]
  },
  {
   "cell_type": "code",
   "execution_count": null,
   "id": "83f3af4a-2a26-4ebf-83f3-5b8fa6403dff",
   "metadata": {},
   "outputs": [],
   "source": [
    "# If you'd like to try your own prompt, edit this parameter!\n",
    "prompt_data = \"\"\"Command: Write me a poem about machine learning in the style of Shakespeare.\n",
    "\n",
    "Poem:\n",
    "\"\"\""
   ]
  },
  {
   "cell_type": "code",
   "execution_count": null,
   "id": "a297735f-27eb-4fff-82c4-9dc6998c5d31",
   "metadata": {},
   "outputs": [],
   "source": [
    "try:\n",
    "    \n",
    "    body = json.dumps({\"inputText\": prompt_data})\n",
    "    modelId = \"amazon.titan-text-express-v1\"\n",
    "    accept = \"application/json\"\n",
    "    contentType = \"application/json\"\n",
    "\n",
    "    response = bedrock_runtime.invoke_model(\n",
    "        body=body, modelId=modelId, accept=accept, contentType=contentType\n",
    "    )\n",
    "    response_body = json.loads(response.get(\"body\").read())\n",
    "\n",
    "    print(response_body.get(\"results\")[0].get(\"outputText\"))\n",
    "\n",
    "except botocore.exceptions.ClientError as error:\n",
    "    if error.response['Error']['Code'] == 'AccessDeniedException':\n",
    "           print(f\"\\x1b[41m{error.response['Error']['Message']}\\\n",
    "                \\nTo troubeshoot this issue please refer to the following resources.\\\n",
    "                 \\nhttps://docs.aws.amazon.com/IAM/latest/UserGuide/troubleshoot_access-denied.html\\\n",
    "                 \\nhttps://docs.aws.amazon.com/bedrock/latest/userguide/security-iam.html\\x1b[0m\\n\")\n",
    "    else:\n",
    "        raise error"
   ]
  },
  {
   "cell_type": "code",
   "execution_count": null,
   "id": "f9f3e1c6-a1f3-4a29-be5e-160af90280bb",
   "metadata": {},
   "outputs": [],
   "source": []
  }
 ],
 "metadata": {
  "kernelspec": {
   "display_name": "Python 3 (ipykernel)",
   "language": "python",
   "name": "python3"
  },
  "language_info": {
   "codemirror_mode": {
    "name": "ipython",
    "version": 3
   },
   "file_extension": ".py",
   "mimetype": "text/x-python",
   "name": "python",
   "nbconvert_exporter": "python",
   "pygments_lexer": "ipython3",
   "version": "3.10.13"
  }
 },
 "nbformat": 4,
 "nbformat_minor": 5
}
