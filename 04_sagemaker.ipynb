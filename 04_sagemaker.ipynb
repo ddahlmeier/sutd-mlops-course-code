{
 "cells": [
  {
   "cell_type": "markdown",
   "id": "bc353941",
   "metadata": {},
   "source": [
    "# Label a dataset with AWS Sagemaker Ground Truth\n",
    "\n",
    "Based on the tutorial https://aws.amazon.com/tutorials/machine-learning-tutorial-label-training-data/"
   ]
  },
  {
   "cell_type": "code",
   "execution_count": null,
   "id": "82ea042d-3868-4781-9e4a-b8888ea0e7b0",
   "metadata": {},
   "outputs": [],
   "source": [
    "# install HF datasets library\n",
    "! pip install datasets"
   ]
  },
  {
   "cell_type": "code",
   "execution_count": null,
   "id": "f634c689-182b-4ddd-8221-b5269ff254e4",
   "metadata": {},
   "outputs": [],
   "source": [
    "from datasets import load_dataset"
   ]
  },
  {
   "cell_type": "code",
   "execution_count": null,
   "id": "9fc7546a-2b52-442b-aeea-001e1b489bc8",
   "metadata": {},
   "outputs": [],
   "source": [
    "# Download the Rotten Tomatoes dataset\n",
    "rotten_tomatoes_dataset = load_dataset(\"rotten_tomatoes\")\n",
    "\n",
    "# print the first movie review and label\n",
    "print(rotten_tomatoes_dataset[\"train\"][0])"
   ]
  },
  {
   "cell_type": "code",
   "execution_count": null,
   "id": "d14502eb-8d99-4aba-bfbc-735c0d01fb3d",
   "metadata": {},
   "outputs": [],
   "source": [
    "# select random 20 samples of movie review data \n",
    "text_list = rotten_tomatoes_dataset['train'].shuffle(seed=42)['text'][0:20]\n",
    "\n",
    "# create directory\n",
    "! mkdir -p text_sample_20\n",
    "\n",
    "# save into txt files\n",
    "for k, tt in enumerate(text_list):\n",
    "    with open(f'text_sample_20/{k}.txt', 'w') as f:\n",
    "        f.write(tt)"
   ]
  },
  {
   "cell_type": "code",
   "execution_count": null,
   "id": "b5647315",
   "metadata": {},
   "outputs": [],
   "source": [
    "text_list"
   ]
  },
  {
   "cell_type": "code",
   "execution_count": null,
   "id": "6d7e1da0-67d3-46ca-a11c-b27c301a34f5",
   "metadata": {},
   "outputs": [],
   "source": [
    "import sagemaker\n",
    "import boto3\n",
    "\n",
    "# upload reviews to S3 bucket\n",
    "sess = sagemaker.Session()\n",
    "bucket = sess.default_bucket() # Set a default S3 bucket\n",
    "s3 = boto3.client('s3')\n",
    "for k in range(len(text_list)):\n",
    "    s3.upload_file(f'text_sample_20/{k}.txt', bucket, f\"rotten_tomatoes_demo/text_sample_20/{k}.txt\")\n",
    "\n"
   ]
  },
  {
   "cell_type": "code",
   "execution_count": null,
   "id": "30445699-2a44-4d72-81f5-1f6cd8182596",
   "metadata": {},
   "outputs": [],
   "source": [
    "# list files\n",
    "sess.list_s3_files(bucket, \"rotten_tomatoes_demo/text_sample_20\")"
   ]
  },
  {
   "cell_type": "code",
   "execution_count": null,
   "id": "2ec6effc-a0eb-42c5-a02d-a9b642536559",
   "metadata": {},
   "outputs": [],
   "source": [
    "# take note of sagemaker default bucket \n",
    "print(\"s3://%s/%s/\" % (bucket, \"rotten_tomatoes_demo/text_sample_20\"))"
   ]
  },
  {
   "cell_type": "markdown",
   "id": "58327ea9",
   "metadata": {},
   "source": [
    "Follow the steps in the tutorial https://aws.amazon.com/tutorials/machine-learning-tutorial-label-training-data/ to label the movie reviews.\n",
    "\n",
    "(Note: this tutorial uses images as the input data, but for our lab, we will use text from the rotten_tomatoes dataset as the input. You can skip step 1, 2 and 5, and use this Jupyter Studio to complete this tutorial. Adjust the tutorial where necessary to use the Rotten Tomatoes review texts, rather than the caltech-101 images)\n"
   ]
  },
  {
   "cell_type": "markdown",
   "id": "b529fc96",
   "metadata": {},
   "source": []
  }
 ],
 "metadata": {
  "kernelspec": {
   "display_name": "Python 3 (ipykernel)",
   "language": "python",
   "name": "python3"
  },
  "language_info": {
   "codemirror_mode": {
    "name": "ipython",
    "version": 3
   },
   "file_extension": ".py",
   "mimetype": "text/x-python",
   "name": "python",
   "nbconvert_exporter": "python",
   "pygments_lexer": "ipython3",
   "version": "3.10.13"
  }
 },
 "nbformat": 4,
 "nbformat_minor": 5
}
