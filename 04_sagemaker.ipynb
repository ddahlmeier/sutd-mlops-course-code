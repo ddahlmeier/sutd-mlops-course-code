{
 "cells": [
  {
   "cell_type": "code",
   "execution_count": 1,
   "id": "82ea042d-3868-4781-9e4a-b8888ea0e7b0",
   "metadata": {},
   "outputs": [
    {
     "name": "stdout",
     "output_type": "stream",
     "text": [
      "Requirement already satisfied: datasets in /opt/conda/lib/python3.10/site-packages (2.14.7)\n",
      "Requirement already satisfied: numpy>=1.17 in /opt/conda/lib/python3.10/site-packages (from datasets) (1.26.2)\n",
      "Requirement already satisfied: pyarrow>=8.0.0 in /opt/conda/lib/python3.10/site-packages (from datasets) (12.0.1)\n",
      "Requirement already satisfied: pyarrow-hotfix in /opt/conda/lib/python3.10/site-packages (from datasets) (0.6)\n",
      "Requirement already satisfied: dill<0.3.8,>=0.3.0 in /opt/conda/lib/python3.10/site-packages (from datasets) (0.3.7)\n",
      "Requirement already satisfied: pandas in /opt/conda/lib/python3.10/site-packages (from datasets) (2.1.4)\n",
      "Requirement already satisfied: requests>=2.19.0 in /opt/conda/lib/python3.10/site-packages (from datasets) (2.31.0)\n",
      "Requirement already satisfied: tqdm>=4.62.1 in /opt/conda/lib/python3.10/site-packages (from datasets) (4.66.1)\n",
      "Requirement already satisfied: xxhash in /opt/conda/lib/python3.10/site-packages (from datasets) (3.4.1)\n",
      "Requirement already satisfied: multiprocess in /opt/conda/lib/python3.10/site-packages (from datasets) (0.70.15)\n",
      "Requirement already satisfied: fsspec<=2023.10.0,>=2023.1.0 in /opt/conda/lib/python3.10/site-packages (from fsspec[http]<=2023.10.0,>=2023.1.0->datasets) (2023.6.0)\n",
      "Requirement already satisfied: aiohttp in /opt/conda/lib/python3.10/site-packages (from datasets) (3.9.1)\n",
      "Requirement already satisfied: huggingface-hub<1.0.0,>=0.14.0 in /opt/conda/lib/python3.10/site-packages (from datasets) (0.19.4)\n",
      "Requirement already satisfied: packaging in /opt/conda/lib/python3.10/site-packages (from datasets) (23.2)\n",
      "Requirement already satisfied: pyyaml>=5.1 in /opt/conda/lib/python3.10/site-packages (from datasets) (6.0.1)\n",
      "Requirement already satisfied: attrs>=17.3.0 in /opt/conda/lib/python3.10/site-packages (from aiohttp->datasets) (23.1.0)\n",
      "Requirement already satisfied: multidict<7.0,>=4.5 in /opt/conda/lib/python3.10/site-packages (from aiohttp->datasets) (6.0.4)\n",
      "Requirement already satisfied: yarl<2.0,>=1.0 in /opt/conda/lib/python3.10/site-packages (from aiohttp->datasets) (1.9.3)\n",
      "Requirement already satisfied: frozenlist>=1.1.1 in /opt/conda/lib/python3.10/site-packages (from aiohttp->datasets) (1.4.0)\n",
      "Requirement already satisfied: aiosignal>=1.1.2 in /opt/conda/lib/python3.10/site-packages (from aiohttp->datasets) (1.3.1)\n",
      "Requirement already satisfied: async-timeout<5.0,>=4.0 in /opt/conda/lib/python3.10/site-packages (from aiohttp->datasets) (4.0.3)\n",
      "Requirement already satisfied: filelock in /opt/conda/lib/python3.10/site-packages (from huggingface-hub<1.0.0,>=0.14.0->datasets) (3.13.1)\n",
      "Requirement already satisfied: typing-extensions>=3.7.4.3 in /opt/conda/lib/python3.10/site-packages (from huggingface-hub<1.0.0,>=0.14.0->datasets) (4.5.0)\n",
      "Requirement already satisfied: charset-normalizer<4,>=2 in /opt/conda/lib/python3.10/site-packages (from requests>=2.19.0->datasets) (3.3.2)\n",
      "Requirement already satisfied: idna<4,>=2.5 in /opt/conda/lib/python3.10/site-packages (from requests>=2.19.0->datasets) (3.6)\n",
      "Requirement already satisfied: urllib3<3,>=1.21.1 in /opt/conda/lib/python3.10/site-packages (from requests>=2.19.0->datasets) (1.26.18)\n",
      "Requirement already satisfied: certifi>=2017.4.17 in /opt/conda/lib/python3.10/site-packages (from requests>=2.19.0->datasets) (2023.11.17)\n",
      "Requirement already satisfied: python-dateutil>=2.8.2 in /opt/conda/lib/python3.10/site-packages (from pandas->datasets) (2.8.2)\n",
      "Requirement already satisfied: pytz>=2020.1 in /opt/conda/lib/python3.10/site-packages (from pandas->datasets) (2023.3)\n",
      "Requirement already satisfied: tzdata>=2022.1 in /opt/conda/lib/python3.10/site-packages (from pandas->datasets) (2023.3)\n",
      "Requirement already satisfied: six>=1.5 in /opt/conda/lib/python3.10/site-packages (from python-dateutil>=2.8.2->pandas->datasets) (1.16.0)\n"
     ]
    }
   ],
   "source": [
    "! pip install datasets"
   ]
  },
  {
   "cell_type": "code",
   "execution_count": 2,
   "id": "f634c689-182b-4ddd-8221-b5269ff254e4",
   "metadata": {},
   "outputs": [],
   "source": [
    "from datasets import load_dataset\n"
   ]
  },
  {
   "cell_type": "code",
   "execution_count": 3,
   "id": "9fc7546a-2b52-442b-aeea-001e1b489bc8",
   "metadata": {},
   "outputs": [
    {
     "name": "stdout",
     "output_type": "stream",
     "text": [
      "{'text': 'the rock is destined to be the 21st century\\'s new \" conan \" and that he\\'s going to make a splash even greater than arnold schwarzenegger , jean-claud van damme or steven segal .', 'label': 1}\n"
     ]
    }
   ],
   "source": [
    "# Download the Rotten Tomatoes dataset\n",
    "rotten_tomatoes_dataset = load_dataset(\"rotten_tomatoes\")\n",
    "\n",
    "# print the first movie review and label\n",
    "print(rotten_tomatoes_dataset[\"train\"][0])\n"
   ]
  },
  {
   "cell_type": "code",
   "execution_count": 4,
   "id": "d14502eb-8d99-4aba-bfbc-735c0d01fb3d",
   "metadata": {},
   "outputs": [],
   "source": [
    "# select random 20 samples of movie review data \n",
    "text_list = rotten_tomatoes_dataset['train'].shuffle(seed=42)['text'][0:20]\n",
    "\n",
    "# create directory\n",
    "! mkdir -p text_sample_20\n"
   ]
  },
  {
   "cell_type": "code",
   "execution_count": 5,
   "id": "dd4e3b38-099f-46b0-9bff-703483ee1bc1",
   "metadata": {},
   "outputs": [
    {
     "name": "stdout",
     "output_type": "stream",
     "text": [
      "sagemaker.config INFO - Not applying SDK defaults from location: /etc/xdg/sagemaker/config.yaml\n",
      "sagemaker.config INFO - Not applying SDK defaults from location: /home/sagemaker-user/.config/sagemaker/config.yaml\n"
     ]
    }
   ],
   "source": [
    "import sagemaker\n",
    "import boto3\n",
    "\n",
    "\n",
    "# create bucket\n",
    "s3 = boto3.resource('s3')\n",
    "bucket = s3.Bucket('test03-sagemaker-groundtruth')  # you need to change the bucket name\n",
    "\n",
    "# save into txt file and upload to S3\n",
    "for k, tt in enumerate(text_list):\n",
    "    with open(f'text_sample_20/{k}.txt', 'w') as f:\n",
    "        f.write(tt)\n",
    "        bucket.upload_file(f'text_sample_20/{k}.txt', f'rotten_tomatoes/text_sample_20/{k}.txt')\n"
   ]
  },
  {
   "cell_type": "code",
   "execution_count": 6,
   "id": "fb8a089a-96ea-4b5d-bfb0-0568d27e91bb",
   "metadata": {},
   "outputs": [
    {
     "data": {
      "text/plain": [
       "['. . . plays like somebody spliced random moments of a chris rock routine into what is otherwise a cliche-riddled but self-serious spy thriller .',\n",
       " \"michael moore has perfected the art of highly entertaining , self-aggrandizing , politically motivated documentary-making , and he's got as potent a topic as ever here .\",\n",
       " '. . . too gory to be a comedy and too silly to be an effective horror film .',\n",
       " 'a graceful , contemplative film that gradually and artfully draws us into a world where the personal and the political get fatally intertwined .',\n",
       " \"the fact that the 'best part' of the movie comes from a 60-second homage to one of demme's good films doesn't bode well for the rest of it .\",\n",
       " \"the thriller side of this movie is falling flat , as the stalker doesn't do much stalking , and no cop or lawyer grasps the concept of actually investigating the case .\",\n",
       " 'more maudlin than sharp .',\n",
       " 'shot like a postcard and overacted with all the boozy self-indulgence that brings out the worst in otherwise talented actors . . .',\n",
       " 'oedekerk mugs mercilessly , and the genuinely funny jokes are few and far between .',\n",
       " \"haneke keeps us at arm's length . guided more by intellect than heart , his story flattens instead of sharpens .\",\n",
       " 'the grey zone gives voice to a story that needs to be heard in the sea of holocaust movies . . . but the film suffers from its own difficulties .',\n",
       " \"one of the smarter offerings the horror genre has produced in recent memory , even if it's far tamer than advertised .\",\n",
       " '. . . somehow manages to escape the shackles of its own clichés to be the best espionage picture to come out in weeks .',\n",
       " 'if divine secrets of the ya-ya sisterhood suffers from a ploddingly melodramatic structure , it comes to life in the performances .',\n",
       " \"high crimes carries almost no organic intrigue as a government/ marine/legal mystery , and that's because the movie serves up all of that stuff , nearly subliminally , as the old-hat province of male intrigue .\",\n",
       " 'the pace and the visuals are so hyped up that a curious sense of menace informs everything .',\n",
       " \"you might not want to hang out with samantha , but you'll probably see a bit of yourself in her unfinished story .\",\n",
       " \"dragonfly has no atmosphere , no tension -- nothing but costner , flailing away . it's a buggy drag .\",\n",
       " 'if you\\'re a crocodile hunter fan , you\\'ll enjoy at least the \" real \" portions of the film . if you\\'re looking for a story , don\\'t bother .',\n",
       " \"deflated ending aside , there's much to recommend the film .\"]"
      ]
     },
     "execution_count": 6,
     "metadata": {},
     "output_type": "execute_result"
    }
   ],
   "source": [
    "text_list"
   ]
  }
 ],
 "metadata": {
  "kernelspec": {
   "display_name": "Python 3 (ipykernel)",
   "language": "python",
   "name": "python3"
  },
  "language_info": {
   "codemirror_mode": {
    "name": "ipython",
    "version": 3
   },
   "file_extension": ".py",
   "mimetype": "text/x-python",
   "name": "python",
   "nbconvert_exporter": "python",
   "pygments_lexer": "ipython3",
   "version": "3.10.13"
  }
 },
 "nbformat": 4,
 "nbformat_minor": 5
}
