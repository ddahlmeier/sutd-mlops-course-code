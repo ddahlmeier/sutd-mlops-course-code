{
 "cells": [
  {
   "cell_type": "code",
   "execution_count": null,
   "id": "c12ac791",
   "metadata": {},
   "outputs": [],
   "source": [
    "! pip install datasets"
   ]
  },
  {
   "cell_type": "code",
   "execution_count": null,
   "id": "f634c689-182b-4ddd-8221-b5269ff254e4",
   "metadata": {},
   "outputs": [],
   "source": [
    "from datasets import load_dataset\n"
   ]
  },
  {
   "cell_type": "code",
   "execution_count": null,
   "id": "9fc7546a-2b52-442b-aeea-001e1b489bc8",
   "metadata": {},
   "outputs": [],
   "source": [
    "# Download the Rotten Tomatoes dataset\n",
    "rotten_tomatoes_dataset = load_dataset(\"rotten_tomatoes\")\n",
    "\n",
    "# print the first movie review and label\n",
    "print(rotten_tomatoes_dataset[\"train\"][0])\n"
   ]
  },
  {
   "cell_type": "code",
   "execution_count": null,
   "id": "d14502eb-8d99-4aba-bfbc-735c0d01fb3d",
   "metadata": {},
   "outputs": [],
   "source": [
    "# select random 20 samples of movie review data \n",
    "text_list = rotten_tomatoes_dataset['train'].shuffle(seed=42)[0:20]\n",
    "\n"
   ]
  },
  {
   "cell_type": "code",
   "execution_count": null,
   "id": "5d13c747",
   "metadata": {},
   "outputs": [],
   "source": [
    "text_list"
   ]
  },
  {
   "cell_type": "code",
   "execution_count": null,
   "id": "aab49afe",
   "metadata": {},
   "outputs": [],
   "source": [
    "# create directory\n",
    "! mkdir -p text_sample_20\n"
   ]
  },
  {
   "cell_type": "code",
   "execution_count": null,
   "id": "dd4e3b38-099f-46b0-9bff-703483ee1bc1",
   "metadata": {},
   "outputs": [],
   "source": [
    "import sagemaker\n",
    "import boto3\n",
    "\n",
    "\n",
    "# create bucket\n",
    "s3 = boto3.resource('s3')\n",
    "bucket = s3.Bucket('test03-sagemaker-groundtruth')  # you need to change the bucket name\n",
    "\n",
    "# save into txt file and upload to S3\n",
    "for k, sample_text in enumerate(text_list['text']):\n",
    "    with open(f'text_sample_20/{k}.txt', 'w') as f:\n",
    "        f.write(sample_text)\n",
    "    bucket.upload_file(f'text_sample_20/{k}.txt', f'rotten_tomatoes/text_sample_20/{k}.txt')\n"
   ]
  },
  {
   "cell_type": "code",
   "execution_count": null,
   "id": "2121da73",
   "metadata": {},
   "outputs": [],
   "source": [
    "import json\n",
    "\n",
    "with open(\"output.manifest\",'r') as f:\n",
    "    data20 = f.read()"
   ]
  },
  {
   "cell_type": "code",
   "execution_count": null,
   "id": "b04f0d97",
   "metadata": {},
   "outputs": [],
   "source": [
    "temp = data20.split('\\n')\n",
    "temp"
   ]
  },
  {
   "cell_type": "code",
   "execution_count": null,
   "id": "cac162f4",
   "metadata": {},
   "outputs": [],
   "source": [
    "import json\n",
    "labeled_data={\n",
    "    'text':[],\n",
    "    'label':[]\n",
    "}   # Dictionary to save text, label from each object\n",
    "\n",
    "# normalize labels to 0, 1\n",
    "map_label = {\"0\": 0,\n",
    "             \"1\": 1,\n",
    "             \"positive\": 1,\n",
    "             \"negative\": 0\n",
    "            }\n",
    "\n",
    "for obj in temp:\n",
    "    if obj == \"\":\n",
    "        continue\n",
    "    temp_dict = json.loads(obj)    #Dictionary for 20 labeled sample\n",
    "    labeled_data['text'].append(temp_dict['source'])   # Each object's text\n",
    "    \n",
    "    # find out what the label job key is\n",
    "    label_job = list(filter(lambda x: x.endswith(\"metadata\"), temp_dict.keys()))[0]\n",
    "    labeled_data['label'].append(map_label[temp_dict[label_job]['class-name']])\n"
   ]
  },
  {
   "cell_type": "code",
   "execution_count": null,
   "id": "871174a7",
   "metadata": {},
   "outputs": [],
   "source": [
    "labeled_data"
   ]
  },
  {
   "cell_type": "code",
   "execution_count": null,
   "id": "db606d1b",
   "metadata": {},
   "outputs": [],
   "source": [
    "gold_labels = []\n",
    "human_labels = []\n",
    "\n",
    "# align labels on the same review text\n",
    "for o_text,o_label in zip(text_list['text'],text_list['label']):\n",
    "    for l_text,l_label in zip(labeled_data['text'],labeled_data['label']):\n",
    "        if o_text == l_text:\n",
    "            print(f'Original text is:{o_text}')\n",
    "            print(f\"Sample text for labeling:{l_text}\")\n",
    "            print(f\"Original label is:{o_label},sample label is :{l_label}\")\n",
    "            gold_labels.append(o_label)\n",
    "            human_labels.append(l_label)\n",
    "            print(\"---\")"
   ]
  },
  {
   "cell_type": "code",
   "execution_count": null,
   "id": "e004cecf",
   "metadata": {},
   "outputs": [],
   "source": [
    "# compute accuracy, p/r/f1\n",
    "\n",
    "from sklearn.metrics import classification_report\n",
    "\n",
    "print(classification_report(gold_labels, human_labels))\n"
   ]
  },
  {
   "cell_type": "code",
   "execution_count": null,
   "id": "5a1cec30",
   "metadata": {},
   "outputs": [],
   "source": [
    "# compute cohen's kappa\n",
    "\n",
    "from sklearn.metrics import cohen_kappa_score\n",
    "\n",
    "cohen_kappa_score(gold_labels, human_labels)"
   ]
  }
 ],
 "metadata": {
  "kernelspec": {
   "display_name": "Python 3 (ipykernel)",
   "language": "python",
   "name": "python3"
  },
  "language_info": {
   "codemirror_mode": {
    "name": "ipython",
    "version": 3
   },
   "file_extension": ".py",
   "mimetype": "text/x-python",
   "name": "python",
   "nbconvert_exporter": "python",
   "pygments_lexer": "ipython3",
   "version": "3.9.16"
  }
 },
 "nbformat": 4,
 "nbformat_minor": 5
}
